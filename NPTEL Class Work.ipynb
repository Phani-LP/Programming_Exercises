{
 "cells": [
  {
   "cell_type": "code",
   "execution_count": 1,
   "id": "97774207",
   "metadata": {},
   "outputs": [
    {
     "name": "stdout",
     "output_type": "stream",
     "text": [
      "      Unnamed: 0  age          job  marital  education default  balance  \\\n",
      "0              0   41     services  married    unknown      no       88   \n",
      "1              1   56   technician  married  secondary      no     1938   \n",
      "2              2   30     services   single  secondary      no      245   \n",
      "3              3   34   management   single   tertiary      no     1396   \n",
      "4              4   29   technician   single  secondary      no      -13   \n",
      "...          ...  ...          ...      ...        ...     ...      ...   \n",
      "5576        5576   48       admin.  married  secondary      no     2235   \n",
      "5577        5577   40  blue-collar  married    primary      no     -388   \n",
      "5578        5578   27      student   single  secondary      no       91   \n",
      "5579        5579   46  blue-collar  married  secondary      no     1568   \n",
      "5580        5580   39     services  married  secondary      no        0   \n",
      "\n",
      "     housing loan    contact  day month  duration  campaign  pdays  previous  \\\n",
      "0        yes   no   cellular   11   may       105         1    336         2   \n",
      "1         no  yes   cellular   26   feb       229         1    192         4   \n",
      "2         no  yes   cellular    8   jul       187         2     -1         0   \n",
      "3        yes   no   cellular   17   jul       630         1     -1         0   \n",
      "4        yes   no   cellular   14   may       512         3     -1         0   \n",
      "...      ...  ...        ...  ...   ...       ...       ...    ...       ...   \n",
      "5576     yes  yes    unknown   15   may       755         2     -1         0   \n",
      "5577     yes   no   cellular    4   may       195         3    340         1   \n",
      "5578      no   no  telephone    4   dec       157         6     95        37   \n",
      "5579     yes   no   cellular    2   jun       310         1     55         6   \n",
      "5580     yes   no   cellular    8   may       503         1     -1         0   \n",
      "\n",
      "     poutcome deposit  \n",
      "0     failure      no  \n",
      "1     success     yes  \n",
      "2     unknown      no  \n",
      "3     unknown      no  \n",
      "4     unknown      no  \n",
      "...       ...     ...  \n",
      "5576  unknown      no  \n",
      "5577  failure      no  \n",
      "5578    other      no  \n",
      "5579    other     yes  \n",
      "5580  unknown      no  \n",
      "\n",
      "[5581 rows x 18 columns]\n",
      "No.of columns are : 18\n"
     ]
    }
   ],
   "source": [
    "import pandas as pd\n",
    "data_csvv=pd.read_csv(\"bank_marketing.csv\",delimiter=\",\")\n",
    "print(data_csvv)\n",
    "c=0\n",
    "for i in data_csvv:\n",
    "    c+=1\n",
    "print(\"No.of columns are : {}\".format(c))"
   ]
  },
  {
   "cell_type": "code",
   "execution_count": 2,
   "id": "169e95a1",
   "metadata": {},
   "outputs": [
    {
     "name": "stdout",
     "output_type": "stream",
     "text": [
      "      age          job  marital  education default  balance housing loan  \\\n",
      "0      41     services  married    unknown      no       88     yes   no   \n",
      "1      56   technician  married  secondary      no     1938      no  yes   \n",
      "2      30     services   single  secondary      no      245      no  yes   \n",
      "3      34   management   single   tertiary      no     1396     yes   no   \n",
      "4      29   technician   single  secondary      no      -13     yes   no   \n",
      "...   ...          ...      ...        ...     ...      ...     ...  ...   \n",
      "5576   48       admin.  married  secondary      no     2235     yes  yes   \n",
      "5577   40  blue-collar  married    primary      no     -388     yes   no   \n",
      "5578   27      student   single  secondary      no       91      no   no   \n",
      "5579   46  blue-collar  married  secondary      no     1568     yes   no   \n",
      "5580   39     services  married  secondary      no        0     yes   no   \n",
      "\n",
      "        contact  day month  duration  campaign  pdays  previous poutcome  \\\n",
      "0      cellular   11   may       105         1    336         2  failure   \n",
      "1      cellular   26   feb       229         1    192         4  success   \n",
      "2      cellular    8   jul       187         2     -1         0  unknown   \n",
      "3      cellular   17   jul       630         1     -1         0  unknown   \n",
      "4      cellular   14   may       512         3     -1         0  unknown   \n",
      "...         ...  ...   ...       ...       ...    ...       ...      ...   \n",
      "5576    unknown   15   may       755         2     -1         0  unknown   \n",
      "5577   cellular    4   may       195         3    340         1  failure   \n",
      "5578  telephone    4   dec       157         6     95        37    other   \n",
      "5579   cellular    2   jun       310         1     55         6    other   \n",
      "5580   cellular    8   may       503         1     -1         0  unknown   \n",
      "\n",
      "     deposit  \n",
      "0         no  \n",
      "1        yes  \n",
      "2         no  \n",
      "3         no  \n",
      "4         no  \n",
      "...      ...  \n",
      "5576      no  \n",
      "5577      no  \n",
      "5578      no  \n",
      "5579     yes  \n",
      "5580      no  \n",
      "\n",
      "[5581 rows x 17 columns]\n"
     ]
    }
   ],
   "source": [
    "import pandas as pd\n",
    "data_csvv=pd.read_csv(\"bank_marketing.csv\",index_col=0,delimiter=\",\")\n",
    "print(data_csvv)"
   ]
  }
 ],
 "metadata": {
  "kernelspec": {
   "display_name": "Python 3 (ipykernel)",
   "language": "python",
   "name": "python3"
  },
  "language_info": {
   "codemirror_mode": {
    "name": "ipython",
    "version": 3
   },
   "file_extension": ".py",
   "mimetype": "text/x-python",
   "name": "python",
   "nbconvert_exporter": "python",
   "pygments_lexer": "ipython3",
   "version": "3.9.12"
  }
 },
 "nbformat": 4,
 "nbformat_minor": 5
}
