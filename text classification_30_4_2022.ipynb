{
 "cells": [
  {
   "cell_type": "code",
   "execution_count": 1,
   "id": "b533161d",
   "metadata": {},
   "outputs": [
    {
     "name": "stderr",
     "output_type": "stream",
     "text": [
      "[nltk_data] Downloading package movie_reviews to\n",
      "[nltk_data]     C:\\Users\\naga_\\AppData\\Roaming\\nltk_data...\n",
      "[nltk_data]   Unzipping corpora\\movie_reviews.zip.\n"
     ]
    },
    {
     "name": "stdout",
     "output_type": "stream",
     "text": [
      "(['warning', ':', 'anyone', 'offended', 'by', 'blatant', ',', 'leering', 'machismo', 'had', 'better', 'avoid', 'this', 'film', '.', 'or', 'lots', 'of', 'blood', '&', 'guts', ',', 'men', 'against', 'men', 'and', 'mano', '-', 'et', '-', 'mano', 'stuff', '.', 'in', 'other', 'words', ',', 'it', \"'\", 's', 'a', 'walter', 'hill', 'film', '!', 'with', 'a', 'john', 'milius', 'script', '!', 'i', 'always', 'picture', 'these', 'guys', 'getting', 'together', 'and', 'producing', 'a', 'movie', 'between', 'arm', '-', 'wrestling', 'matches', '.', 'these', 'films', 'always', 'contain', 'male', 'characters', 'i', 'have', 'a', 'very', 'hard', 'time', 'identifying', 'with', ',', 'probably', 'due', 'to', 'the', 'likelihood', 'that', 'any', 'meeting', 'between', 'them', 'and', 'me', 'would', 'result', 'in', 'my', 'arm', 'being', 'ripped', 'off', 'and', 'then', 'my', 'subsequent', 'death', 'by', 'beating', 'with', 'said', 'limb', '.', 'and', 'we', 'got', 'tough', 'guys', 'galore', ',', 'here', ';', 'drug', '-', 'running', 'banditos', 'by', 'the', 'dozens', ',', 'all', 'dirty', 'and', 'sweaty', 'and', 'pretty', 'ill', '-', 'tempered', ',', 'overall', ';', 'a', 'secret', 'task', 'force', 'of', 'army', 'commandos', 'who', 'are', 'in', 'the', 'area', 'to', 'cover', '-', 'up', '(', 'supposedly', ')', 'any', 'connection', 'between', 'the', 'government', 'and', 'the', 'drug', 'runners', ';', 'and', 'lots', 'of', 'shit', '-', 'kicking', 'texas', 'dirt', 'farmers', 'who', \"'\", 'd', 'as', 'soon', 'shoot', 'you', 'between', 'the', 'eyes', 'as', 'look', 'at', 'you', '.', 'in', 'particular', ',', 'we', 'got', 'nick', 'nolte', 'as', 'one', 'hard', '-', 'ass', 'texas', 'ranger', ',', 'powers', 'boothe', 'as', 'the', 'drug', 'kingpin', ',', 'michael', 'ironsides', 'as', 'the', 'leader', 'of', 'the', 'secret', 'army', ',', 'and', 'rip', 'torn', 'as', 'the', 'local', 'sheriff', '.', 'torn', 'is', 'the', 'sympathetic', 'figure', 'of', 'the', 'group', ';', 'he', 'smiles', 'before', 'shooting', 'anyone', '.', 'as', 'to', 'women', '.', '.', '.', 'well', ',', 'i', \"'\", 've', 'never', 'seen', 'jane', 'fonda', 'or', 'meryl', 'streep', 'in', 'a', 'walter', 'hill', 'film', ',', 'and', 'at', 'this', 'rate', ',', 'i', 'doubt', 'i', 'ever', 'will', '.', 'women', 'exist', 'here', 'to', 'look', 'good', ',', 'comfort', 'the', 'man', ',', 'and', 'get', 'argued', 'over', '.', 'gosh', '!', 'just', 'like', 'the', 'old', 'days', '.', '.', '.', 'frankly', ',', 'this', 'is', 'a', 'pretty', 'good', 'movie', ',', 'if', 'you', 'can', 'accept', 'the', 'premise', 'and', 'can', 'take', 'the', 'macho', 'stuff', '.', 'the', 'cinematography', 'is', 'excellent', ',', 'the', 'cast', 'of', 'characters', 'is', 'broad', 'and', 'has', 'texture', ',', 'the', 'script', 'is', 'quite', 'good', ',', 'and', 'the', 'film', 'lets', 'you', 'keep', 'up', 'with', 'what', \"'\", 's', 'happening', 'yourself', ',', 'without', 'spelling', 'it', 'out', 'to', 'you', '.', 'i', 'appreciate', 'a', 'film', 'that', 'makes', 'me', 'have', 'to', 'think', 'to', 'keep', 'up', '.', 'finally', ',', 'there', \"'\", 's', 'lots', 'of', 'sam', 'peckinpah', 'slow', '-', 'motion', 'shoot', '-', 'ups', '.'], 'pos')\n",
      "[(',', 77717), ('the', 76529), ('.', 65876), ('a', 38106), ('and', 35576), ('of', 34123), ('to', 31937), (\"'\", 30585), ('is', 25195), ('in', 21822), ('s', 18513), ('\"', 17612), ('it', 16107), ('that', 15924), ('-', 15595)]\n",
      "253\n"
     ]
    }
   ],
   "source": [
    "import nltk \n",
    "import random\n",
    "nltk.download(\"movie_reviews\")\n",
    "from nltk.corpus import movie_reviews \n",
    "documents=[(list(movie_reviews.words(fileid)),category)\n",
    "    for category in movie_reviews.categories() \n",
    "    for fileid in movie_reviews.fileids(category)]\n",
    "random.shuffle(documents) \n",
    "print(documents[1]) \n",
    "all_words=[]\n",
    "for w in movie_reviews.words(): \n",
    "    all_words.append(w.lower())\n",
    "all_words=nltk.FreqDist(all_words) \n",
    "print(all_words.most_common(15)) \n",
    "print(all_words[\"stupid\"])"
   ]
  }
 ],
 "metadata": {
  "kernelspec": {
   "display_name": "Python 3",
   "language": "python",
   "name": "python3"
  },
  "language_info": {
   "codemirror_mode": {
    "name": "ipython",
    "version": 3
   },
   "file_extension": ".py",
   "mimetype": "text/x-python",
   "name": "python",
   "nbconvert_exporter": "python",
   "pygments_lexer": "ipython3",
   "version": "3.8.8"
  }
 },
 "nbformat": 4,
 "nbformat_minor": 5
}
