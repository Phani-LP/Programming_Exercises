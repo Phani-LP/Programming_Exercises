{
 "cells": [
  {
   "cell_type": "code",
   "execution_count": 38,
   "metadata": {},
   "outputs": [
    {
     "name": "stdout",
     "output_type": "stream",
     "text": [
      "Enter a value: 54\n",
      "Enter b value: 4\n",
      "54 is big\n"
     ]
    }
   ],
   "source": [
    "import math \n",
    "import re\n",
    "a = int(input(\"Enter a value: \"))\n",
    "b = int(input(\"Enter b value: \"))\n",
    "if(a>b):\n",
    "    print(\"{} is big\".format(a))\n",
    "else:\n",
    "    print(\"{} is big\".format(b))\n"
   ]
  },
  {
   "cell_type": "code",
   "execution_count": null,
   "metadata": {},
   "outputs": [],
   "source": []
  },
  {
   "cell_type": "code",
   "execution_count": 27,
   "metadata": {},
   "outputs": [
    {
     "name": "stdout",
     "output_type": "stream",
     "text": [
      "List data structure\n",
      "Enter no.of elements : 4\n",
      "enter a element: phani\n",
      "enter a element: sasank\n",
      "enter a element: IT\n",
      "enter a element: A\n",
      "['phani', 'sasank', 'IT', 'A']\n"
     ]
    }
   ],
   "source": [
    "print(\"List data structure\")\n",
    "lst=[]4\n",
    "\n",
    "n=int(input(\"Enter no.of elements : \"))\n",
    "for i in range(0,n):\n",
    "    p=input(\"enter a element: \")\n",
    "    lst.append(p)\n",
    "print(lst)"
   ]
  },
  {
   "cell_type": "code",
   "execution_count": 28,
   "metadata": {},
   "outputs": [
    {
     "name": "stdout",
     "output_type": "stream",
     "text": [
      "Tuple data structure\n",
      "('phani', 19, True, 'male')\n"
     ]
    }
   ],
   "source": [
    "print(\"Tuple data structure\")\n",
    "tup=tuple((\"phani\",19,True,\"male\"))\n",
    "print(tup)"
   ]
  },
  {
   "cell_type": "code",
   "execution_count": 29,
   "metadata": {},
   "outputs": [
    {
     "name": "stdout",
     "output_type": "stream",
     "text": [
      "Dictionary data structure\n",
      "{'Name': 'Phani', 'Branch': 'IT', 'section': 'A', 'fav_colors': ['Green', 'Red rosepink']}\n"
     ]
    }
   ],
   "source": [
    "print(\"Dictionary data structure\")\n",
    "dict = { \"Name\":\"Phani\",\"Branch\":\"IT\", \"section\":\"A\",\"fav_colors\":[\"Green\",\"Red rosepink\"]}\n",
    "print(dict)"
   ]
  },
  {
   "cell_type": "code",
   "execution_count": 30,
   "metadata": {},
   "outputs": [
    {
     "name": "stdout",
     "output_type": "stream",
     "text": [
      "set data structure\n",
      "<class 'set'>\n"
     ]
    }
   ],
   "source": [
    "print(\"set data structure\")\n",
    "set1={\"apple\",\"banana\",\"cherry\"}\n",
    "print(set)"
   ]
  },
  {
   "cell_type": "code",
   "execution_count": 39,
   "metadata": {},
   "outputs": [
    {
     "name": "stdout",
     "output_type": "stream",
     "text": [
      "Using the regural expressions\n",
      "yes,we do have a match\n"
     ]
    }
   ],
   "source": [
    "print(\"Using the regural expressions\")\n",
    "txt = \"The rain in the spain\"\n",
    "c=re.search(\"^The.*spain$\",txt)\n",
    "if c:\n",
    "    print(\"yes,we do have a match\")\n",
    "else:\n",
    "    print(\"No match found\")"
   ]
  },
  {
   "cell_type": "code",
   "execution_count": 32,
   "metadata": {},
   "outputs": [
    {
     "name": "stdout",
     "output_type": "stream",
     "text": [
      "Using functions\n",
      "Function without arguments\n"
     ]
    }
   ],
   "source": [
    "print(\"Using functions\")\n",
    "def fun():\n",
    "    print(\"Function without arguments\")\n",
    "fun()"
   ]
  },
  {
   "cell_type": "code",
   "execution_count": 33,
   "metadata": {},
   "outputs": [
    {
     "name": "stdout",
     "output_type": "stream",
     "text": [
      "Function with arguments example\n",
      "Enter a number:22\n",
      "even\n"
     ]
    }
   ],
   "source": [
    "print(\"Function with arguments example\")\n",
    "k = int(input(\"Enter a number:\"))\n",
    "def evenOdd(x):\n",
    "    if (x % 2 == 0):\n",
    "        print(\"even\")\n",
    "    else:\n",
    "        print(\"odd\")\n",
    "evenOdd(k)"
   ]
  },
  {
   "cell_type": "code",
   "execution_count": 34,
   "metadata": {},
   "outputs": [
    {
     "name": "stdout",
     "output_type": "stream",
     "text": [
      "Default arguments in function\n",
      "x:  10\n",
      "y:  15\n"
     ]
    }
   ],
   "source": [
    "print(\"Default arguments in function\")\n",
    "def myFun(x, y=15):\n",
    "    print(\"x: \", x)\n",
    "    print(\"y: \", y)\n",
    "myFun(10)"
   ]
  },
  {
   "cell_type": "code",
   "execution_count": 35,
   "metadata": {},
   "outputs": [
    {
     "name": "stdout",
     "output_type": "stream",
     "text": [
      "keyword as arguments function\n",
      "Naga Phanindra\n",
      "Naga Phanindra\n",
      "9\n",
      "16\n"
     ]
    }
   ],
   "source": [
    "print(\"keyword as arguments function\")\n",
    "def phani(f_name, l_name):\n",
    "    print(f_name, l_name)\n",
    "phani(f_name='Naga', l_name='Phanindra')\n",
    "phani(l_name='Phanindra', f_name='Naga')\n",
    "def f1(q):\n",
    "    return q**2\n",
    "print(f1(3))\n",
    "print(f1(-4))"
   ]
  },
  {
   "cell_type": "code",
   "execution_count": 36,
   "metadata": {},
   "outputs": [
    {
     "name": "stdout",
     "output_type": "stream",
     "text": [
      "using math package\n",
      "pi value is 3.141592653589793\n"
     ]
    }
   ],
   "source": [
    "print(\"using math package\")\n",
    "print(\"pi value is\",math.pi)"
   ]
  },
  {
   "cell_type": "code",
   "execution_count": 17,
   "metadata": {},
   "outputs": [
    {
     "name": "stdout",
     "output_type": "stream",
     "text": [
      "Finding ASCII value for the given character \n",
      "Enter the character whose ASCII code needs to be found: Phani\n",
      "The ASCII value of given characters are 80\n",
      "The ASCII value of given characters are 104\n",
      "The ASCII value of given characters are 97\n",
      "The ASCII value of given characters are 110\n",
      "The ASCII value of given characters are 105\n"
     ]
    }
   ],
   "source": [
    "print(\"Finding ASCII value for the given character \")\n",
    "c = tuple(input(\"Enter the character whose ASCII code needs to be found: \"))\n",
    "for i in c:\n",
    "    print (\"The ASCII value of given characters are\", ord (i))\n"
   ]
  },
  {
   "cell_type": "code",
   "execution_count": 20,
   "metadata": {},
   "outputs": [
    {
     "name": "stdout",
     "output_type": "stream",
     "text": [
      "Add 10 to argument h, and return the result: \n",
      "15\n"
     ]
    }
   ],
   "source": [
    "print(\"Add 10 to argument h, and return the result: \")\n",
    "x = lambda h : h + 10\n",
    "print(x(5))"
   ]
  },
  {
   "cell_type": "code",
   "execution_count": 1,
   "metadata": {},
   "outputs": [
    {
     "name": "stdout",
     "output_type": "stream",
     "text": [
      "Enter a value: 54\n",
      "Enter b value: 4\n",
      "54 is big\n",
      "\n",
      "List data structure\n",
      "Enter no.of elements : 4\n",
      "enter a element: phani\n",
      "enter a element: sasank\n",
      "enter a element: IT\n",
      "enter a element: A\n",
      "['phani', 'sasank', 'IT', 'A']\n",
      "\n",
      "Tuple data structure\n",
      "('phani', 19, True, 'male')\n",
      "\n",
      "Dictionary data structure\n",
      "{'Name': 'Phani', 'Branch': 'IT', 'section': 'A', 'fav_colors': ['Green', 'Red rosepink']}\n",
      "\n",
      "set data structure\n",
      "<class 'set'>\n",
      "\n",
      "Using the regural expressions\n",
      "yes,we do have a match\n",
      "\n",
      "Using functions\n",
      "Function without arguments\n",
      "\n",
      "Function with arguments example\n",
      "Enter a number:22\n",
      "even\n",
      "\n",
      "Default arguments in function\n",
      "x:  10\n",
      "y:  15\n",
      "\n",
      "keyword as arguments function\n",
      "Naga Phanindra\n",
      "Naga Phanindra\n",
      "9\n",
      "16\n",
      "\n",
      "using math package\n",
      "pi value is 3.141592653589793\n",
      "\n",
      "Finding ASCII value for the given character \n",
      "Enter the character whose ASCII code needs to be found: phani\n",
      "The ASCII value of given characters are 112\n",
      "The ASCII value of given characters are 104\n",
      "The ASCII value of given characters are 97\n",
      "The ASCII value of given characters are 110\n",
      "The ASCII value of given characters are 105\n",
      "Add 10 to argument h, and return the result: \n",
      "15\n"
     ]
    }
   ],
   "source": [
    "import math \n",
    "import re\n",
    "a = int(input(\"Enter a value: \"))\n",
    "b = int(input(\"Enter b value: \"))\n",
    "if(a>b):\n",
    "    print(\"{} is big\".format(a))\n",
    "else:\n",
    "    print(\"{} is big\".format(b))\n",
    "print()\n",
    "print(\"List data structure\")\n",
    "lst=[]\n",
    "n=int(input(\"Enter no.of elements : \"))\n",
    "for i in range(0,n):\n",
    "    p=input(\"enter a element: \")\n",
    "    lst.append(p)\n",
    "print(lst)\n",
    "print()\n",
    "print(\"Tuple data structure\")\n",
    "tup=tuple((\"phani\",19,True,\"male\"))\n",
    "print(tup)\n",
    "print()\n",
    "print(\"Dictionary data structure\")\n",
    "dict = { \"Name\":\"Phani\",\"Branch\":\"IT\", \"section\":\"A\",\"fav_colors\":[\"Green\",\"Red rosepink\"]}\n",
    "print(dict)\n",
    "print()\n",
    "print(\"set data structure\")\n",
    "set1={\"apple\",\"banana\",\"cherry\"}\n",
    "print(set)\n",
    "print()\n",
    "print(\"Using the regural expressions\")\n",
    "txt = \"The rain in the spain\"\n",
    "c=re.search(\"^The.*spain$\",txt)\n",
    "if c:\n",
    "    print(\"yes,we do have a match\")\n",
    "else:\n",
    "    print(\"No match found\")\n",
    "print()\n",
    "print(\"Using functions\")\n",
    "def fun():\n",
    "    print(\"Function without arguments\")\n",
    "fun()\n",
    "print()\n",
    "print(\"Function with arguments example\")\n",
    "k = int(input(\"Enter a number:\"))\n",
    "def evenOdd(x):\n",
    "    if (x % 2 == 0):\n",
    "        print(\"even\")\n",
    "    else:\n",
    "        print(\"odd\")\n",
    "evenOdd(k)\n",
    "print()\n",
    "print(\"Default arguments in function\")\n",
    "def myFun(x, y=15):\n",
    "    print(\"x: \", x)\n",
    "    print(\"y: \", y)\n",
    "myFun(10)\n",
    "print()\n",
    "print(\"keyword as arguments function\")\n",
    "def phani(f_name, l_name):\n",
    "    print(f_name, l_name)\n",
    "phani(f_name='Naga', l_name='Phanindra')\n",
    "phani(l_name='Phanindra', f_name='Naga')\n",
    "def f1(q):\n",
    "    return q**2\n",
    "print(f1(3))\n",
    "print(f1(-4))\n",
    "print()\n",
    "print(\"using math package\")\n",
    "print(\"pi value is\",math.pi)\n",
    "print()\n",
    "print(\"Finding ASCII value for the given character \")\n",
    "c = tuple(input(\"Enter the character whose ASCII code needs to be found: \"))\n",
    "for i in c:\n",
    "    print (\"The ASCII value of given characters are\", ord (i))\n",
    "print(\"Add 10 to argument h, and return the result: \")\n",
    "x = lambda h : h + 10\n",
    "print(x(5))"
   ]
  }
 ],
 "metadata": {
  "kernelspec": {
   "display_name": "Python 3",
   "language": "python",
   "name": "python3"
  },
  "language_info": {
   "codemirror_mode": {
    "name": "ipython",
    "version": 3
   },
   "file_extension": ".py",
   "mimetype": "text/x-python",
   "name": "python",
   "nbconvert_exporter": "python",
   "pygments_lexer": "ipython3",
   "version": "3.8.8"
  }
 },
 "nbformat": 4,
 "nbformat_minor": 2
}
