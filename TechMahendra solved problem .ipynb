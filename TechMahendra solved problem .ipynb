{
 "cells": [
  {
   "cell_type": "markdown",
   "id": "de876289",
   "metadata": {},
   "source": []
  },
  {
   "cell_type": "code",
   "execution_count": 6,
   "id": "962c5833",
   "metadata": {},
   "outputs": [
    {
     "name": "stdout",
     "output_type": "stream",
     "text": [
      "5\n",
      "12345"
     ]
    }
   ],
   "source": [
    "n=int(input())\n",
    "for i in range(1,n+1):\n",
    "    print(i,end=\"\")"
   ]
  },
  {
   "cell_type": "code",
   "execution_count": 5,
   "id": "161792c7",
   "metadata": {},
   "outputs": [
    {
     "name": "stdout",
     "output_type": "stream",
     "text": [
      "5\n",
      "24 12 5 4 8\n",
      "3\n",
      "[4, 5, 8, 12, 24]\n",
      "8\n"
     ]
    }
   ],
   "source": [
    "n=int(input())\n",
    "a=input().split(' ',n-1)\n",
    "l=[]\n",
    "for i in a:\n",
    "    l.append(int(i))\n",
    "b=int(input())\n",
    "l.sort()\n",
    "print(l)\n",
    "#the 3rd smallest value\n",
    "print(l[b-1])\n"
   ]
  },
  {
   "cell_type": "code",
   "execution_count": null,
   "id": "cf757611",
   "metadata": {},
   "outputs": [],
   "source": [
    "b1=float(input())\n",
    "h1=float(input())\n",
    "b2=float(input())\n",
    "h2=float(input())\n",
    "a1 = b1*h1/2 \n",
    "a2 = b2*h2/2\n",
    "if a1 > a2:\n",
    "    print(round(a1,1),)\n",
    "else:\n",
    "    print(round(a2,1))"
   ]
  },
  {
   "cell_type": "code",
   "execution_count": null,
   "id": "5d2aae2c",
   "metadata": {},
   "outputs": [],
   "source": [
    "n=int(input())\n",
    "a=input().split(' ',n-1)\n",
    "b=[]\n",
    "c=[]\n",
    "for i in a:\n",
    "    if int(i)%2==0:\n",
    "        b.append(i)\n",
    "    else:\n",
    "        c.append(i)\n",
    "for i in c:\n",
    "    b.append(i)\n",
    "print(b)"
   ]
  },
  {
   "cell_type": "code",
   "execution_count": 1,
   "id": "9e9ed690",
   "metadata": {},
   "outputs": [
    {
     "name": "stdout",
     "output_type": "stream",
     "text": [
      "6\n",
      "25 77 54 81 48 34\n",
      "2\n"
     ]
    }
   ],
   "source": [
    "from math import sqrt\n",
    "c=0\n",
    "n=int(input())\n",
    "a=input().split(' ',n-1)\n",
    "for j in a:\n",
    "    if int(j)>0:\n",
    "        i = int(j)\n",
    "        sr = int(sqrt(i))\n",
    "        if sr*sr == i :\n",
    "            c=c+1\n",
    "print(c)"
   ]
  },
  {
   "cell_type": "code",
   "execution_count": 4,
   "id": "a66efc0f",
   "metadata": {},
   "outputs": [
    {
     "name": "stdout",
     "output_type": "stream",
     "text": [
      "2342\n",
      "48\n"
     ]
    }
   ],
   "source": [
    "n=input()\n",
    "s=1\n",
    "for i in n:\n",
    "    s=s*int(i)\n",
    "print(s)"
   ]
  },
  {
   "cell_type": "code",
   "execution_count": 14,
   "id": "b61a88b8",
   "metadata": {},
   "outputs": [
    {
     "name": "stdout",
     "output_type": "stream",
     "text": [
      "phaniphani\n",
      "0\n"
     ]
    }
   ],
   "source": [
    "S = input()\n",
    "a=0\n",
    "for i in S:\n",
    "    c = 0\n",
    "    for j in S:\n",
    "        if i == j:\n",
    "            c+=1\n",
    "        if c > 1:\n",
    "            break\n",
    "    if c == 1:\n",
    "        a+=1\n",
    "print(a)"
   ]
  },
  {
   "cell_type": "code",
   "execution_count": 6,
   "id": "150a8bd2",
   "metadata": {},
   "outputs": [
    {
     "name": "stdout",
     "output_type": "stream",
     "text": [
      "2\n",
      "12\n",
      "2 3 5 7 11 "
     ]
    }
   ],
   "source": [
    "l=int(input())\n",
    "u=int(input())\n",
    "a=[]\n",
    "for i in range(l,u+1):\n",
    "    if i>1:\n",
    "        for j in range(2,i):\n",
    "            if(i%j==0):\n",
    "                break\n",
    "        else:\n",
    "            a.append(i)\n",
    "for ele in a:\n",
    "    print(ele,end=\" \")"
   ]
  },
  {
   "cell_type": "code",
   "execution_count": null,
   "id": "ce5c4bfc",
   "metadata": {},
   "outputs": [],
   "source": []
  }
 ],
 "metadata": {
  "kernelspec": {
   "display_name": "Python 3 (ipykernel)",
   "language": "python",
   "name": "python3"
  },
  "language_info": {
   "codemirror_mode": {
    "name": "ipython",
    "version": 3
   },
   "file_extension": ".py",
   "mimetype": "text/x-python",
   "name": "python",
   "nbconvert_exporter": "python",
   "pygments_lexer": "ipython3",
   "version": "3.9.12"
  }
 },
 "nbformat": 4,
 "nbformat_minor": 5
}
