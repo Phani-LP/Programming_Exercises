{
 "cells": [
  {
   "cell_type": "code",
   "execution_count": 3,
   "metadata": {},
   "outputs": [
    {
     "name": "stdout",
     "output_type": "stream",
     "text": [
      "enter a message : Hi\n",
      "Hello\n",
      "enter a message : How are you\n",
      "I'm good & How do you do?\n",
      "enter a message : I am fine\n",
      "Glad to hear that.\n",
      "enter a message : What is your name\n",
      "my name is ChatBot\n",
      "enter a message : Please be silent\n",
      "Yeah sure\n",
      "enter a message : Are you free right now\n",
      "will check and infrom you\n",
      "enter a message : Shall we go for a movie tonight\n",
      "yeah sure we will go\n",
      "enter a message : What are you doing in free time\n",
      "Playig cricket\n",
      "enter a message : Shall we go out now\n",
      "No i can't come with you\n",
      "enter a message : I like you\n",
      "I like you too\n",
      "enter a message : Bye\n",
      "Good bye\n"
     ]
    },
    {
     "ename": "SystemExit",
     "evalue": "exiting",
     "output_type": "error",
     "traceback": [
      "An exception has occurred, use %tb to see the full traceback.\n",
      "\u001b[1;31mSystemExit\u001b[0m\u001b[1;31m:\u001b[0m exiting\n"
     ]
    },
    {
     "name": "stderr",
     "output_type": "stream",
     "text": [
      "C:\\ProgramData\\Anaconda3\\lib\\site-packages\\IPython\\core\\interactiveshell.py:2971: UserWarning: To exit: use 'exit', 'quit', or Ctrl-D.\n",
      "  warn(\"To exit: use 'exit', 'quit', or Ctrl-D.\", stacklevel=1)\n"
     ]
    }
   ],
   "source": [
    "import sys\n",
    "reflections={\"Hi\":\"Hello\",\n",
    "        \"How are you\":\"I'm good & How do you do?\",\n",
    "        \"I am fine\":\"Glad to hear that.\",\n",
    "        \"Where are you\":\"i am in Bapatla\",\n",
    "        \"What is your name\":\"my name is ChatBot\",\n",
    "        \"Bye\":\"Good bye\",\n",
    "        \"Please be silent\":\"Yeah sure\",\n",
    "        \"Are you free right now\":\"will check and infrom you\",\n",
    "        \"Shall we go for a movie tonight\":\"yeah sure we will go\",\n",
    "        \"What are you doing in free time\":\"Playig cricket\",\n",
    "        \"Where you are working right now\":\"I am in the 3rd year of btech\",\n",
    "        \"Shall we go out now\":\"No i can't come with you\",\n",
    "        \"I like you\":\"I like you too\"\n",
    "}\n",
    "def chat(reflection):\n",
    "    s=str(input(\"enter a message : \"))\n",
    "    if(s in reflection.keys()):\n",
    "        if(s==\"Bye\"):\n",
    "            print(reflection[s])\n",
    "            sys.exit(\"exiting\")\n",
    "        else:\n",
    "            print(reflection[s])\n",
    "    else:\n",
    "        print(\"i did not get you\")\n",
    "    chat(reflection)\n",
    "chat(reflections)"
   ]
  },
  {
   "cell_type": "code",
   "execution_count": null,
   "metadata": {},
   "outputs": [],
   "source": []
  }
 ],
 "metadata": {
  "kernelspec": {
   "display_name": "Python 3",
   "language": "python",
   "name": "python3"
  },
  "language_info": {
   "codemirror_mode": {
    "name": "ipython",
    "version": 3
   },
   "file_extension": ".py",
   "mimetype": "text/x-python",
   "name": "python",
   "nbconvert_exporter": "python",
   "pygments_lexer": "ipython3",
   "version": "3.8.8"
  }
 },
 "nbformat": 4,
 "nbformat_minor": 2
}
