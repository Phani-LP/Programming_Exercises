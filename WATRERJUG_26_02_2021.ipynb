{
 "cells": [
  {
   "cell_type": "code",
   "execution_count": 2,
   "metadata": {},
   "outputs": [
    {
     "name": "stdout",
     "output_type": "stream",
     "text": [
      "enter x value:0\n",
      "enter y value:0\n",
      "enter rule no:2\n",
      "X= 0\n",
      "Y= 3\n",
      "enter rule no:9\n",
      "X= 3\n",
      "Y= 0\n",
      "enter rule no:2\n",
      "X= 3\n",
      "Y= 3\n",
      "enter rule no:7\n",
      "X= 4\n",
      "Y= 2\n",
      "enter rule no:5\n",
      "X= 0\n",
      "Y= 2\n",
      "enter rule no:9\n",
      "X= 2\n",
      "Y= 0\n",
      "The Result is in Goal state\n"
     ]
    }
   ],
   "source": [
    "import docx\n",
    "doc = docx.Document()\n",
    "doc.add_heading('WATER JUB PROBLEM', 0)\n",
    "x=int(input(\"enter x value:\"))\n",
    "y=int(input(\"enter y value:\"))\n",
    "while True:\n",
    "    mo=int(input(\"enter rule no:\"))\n",
    "    if mo==1:\n",
    "        if x<4:\n",
    "            x=4\n",
    "    if mo==2:\n",
    "        if y<3:\n",
    "            y=3\n",
    "    if mo==5:\n",
    "        if x>0:\n",
    "            x=0\n",
    "    if mo==6:\n",
    "        if y>0:\n",
    "            y=0\n",
    "    if mo==7:\n",
    "        if (x+y)>=4 and y>0:\n",
    "            x,y=4,y-(4-x)\n",
    "    if mo == 8:\n",
    "        if (x+y)>=3 and x>0:\n",
    "            x,y=x-(3-x),3\n",
    "    if mo == 9:\n",
    "        if (x+y)<=4 and y>0:\n",
    "            x,y=x+y,0\n",
    "    if mo==10:\n",
    "        if x+y<=3 and x>0:\n",
    "            x,y0=0,x+y\n",
    "    print(\"X=\",x)\n",
    "    print(\"Y=\",y)\n",
    "    if (x==2):\n",
    "        print(\"The Result is in Goal state\")\n",
    "        break"
   ]
  },
  {
   "cell_type": "code",
   "execution_count": null,
   "metadata": {},
   "outputs": [],
   "source": [
    "pip install python-docx"
   ]
  }
 ],
 "metadata": {
  "kernelspec": {
   "display_name": "Python 3",
   "language": "python",
   "name": "python3"
  },
  "language_info": {
   "codemirror_mode": {
    "name": "ipython",
    "version": 3
   },
   "file_extension": ".py",
   "mimetype": "text/x-python",
   "name": "python",
   "nbconvert_exporter": "python",
   "pygments_lexer": "ipython3",
   "version": "3.8.8"
  }
 },
 "nbformat": 4,
 "nbformat_minor": 2
}
