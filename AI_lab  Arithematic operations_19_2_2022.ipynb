{
 "cells": [
  {
   "cell_type": "code",
   "execution_count": 6,
   "metadata": {},
   "outputs": [
    {
     "name": "stdout",
     "output_type": "stream",
     "text": [
      "Enter a number for a value: 4\n",
      "Enter a number for b value: 5\n",
      "Sum of a,b is  9\n",
      "substraction of a,b = -1\n",
      "Multiplication of a,b = 20\n",
      "Division of a,b = 0.8\n",
      "Floor division of a,b = 0\n",
      "Modulo of a,b = 4\n",
      "Power of a,b = 1024\n"
     ]
    }
   ],
   "source": [
    "a = int(input('Enter a number for a value: '))\n",
    "b = int(input('Enter a number for b value: '))\n",
    "print(\"Sum of a,b is \",a+b)\n",
    "print(\"substraction of a,b =\",a-b)\n",
    "print(\"Multiplication of a,b =\",a*b)\n",
    "print(\"Division of a,b =\",a/b)\n",
    "print(\"Floor division of a,b =\",a//b)\n",
    "print(\"Modulo of a,b =\",a%b)\n",
    "print(\"Power of a,b =\",a**b)"
   ]
  },
  {
   "cell_type": "code",
   "execution_count": 2,
   "metadata": {},
   "outputs": [
    {
     "name": "stdout",
     "output_type": "stream",
     "text": [
      "enter a number : 5\n",
      "Factorial of 5 is 120\n"
     ]
    }
   ],
   "source": [
    "def factorial(n):\n",
    "    return 1 if (n==1 or n==0) e4\n",
    "lse n * factorial(n - 1)\n",
    "num= int(input (\"enter a number : \"))\n",
    "print(\"Factorial of\",num,\"is\",factorial(num))"
   ]
  },
  {
   "cell_type": "code",
   "execution_count": 11,
   "metadata": {},
   "outputs": [
    {
     "name": "stdout",
     "output_type": "stream",
     "text": [
      "Enter number of elements : 6\n",
      "1\n",
      "9\n",
      "10\n",
      "10\n",
      "0\n",
      "0\n",
      "[1, 9, 10, 10, 0, 0]\n",
      "Mean value is : 5.0\n"
     ]
    }
   ],
   "source": [
    "l = []\n",
    "n = int(input(\"Enter number of elements : \"))\n",
    "for i in range(0, n):\n",
    "    ele = int(input())\n",
    " \n",
    "    l.append(ele)\n",
    "print(l)\n",
    "s=0\n",
    "for i in range(0,len(l)):\n",
    "    s = s+l[i] \n",
    "s=s/len(l)\n",
    "print(\"Mean value is :\",s)"
   ]
  },
  {
   "cell_type": "code",
   "execution_count": 4,
   "metadata": {},
   "outputs": [
    {
     "name": "stdout",
     "output_type": "stream",
     "text": [
      "Exponential Value is:  54.598150033144236\n"
     ]
    }
   ],
   "source": [
    "\n",
    "import math\n",
    "exponent = 4\n",
    "print( \"Exponential Value is: \", math.exp(exponent))"
   ]
  },
  {
   "cell_type": "code",
   "execution_count": 5,
   "metadata": {},
   "outputs": [
    {
     "name": "stdout",
     "output_type": "stream",
     "text": [
      "Median is: 3\n"
     ]
    }
   ],
   "source": [
    "n_num = [1, 2, 3, 4, 5]\n",
    "n = len(n_num)\n",
    "n_num.sort()\n",
    "  \n",
    "if n % 2 == 0:\n",
    "    median1 = n_num[n//2]\n",
    "    median2 = n_num[n//2 - 1]\n",
    "    median = (median1 + median2)/2\n",
    "else:\n",
    "    median = n_num[n//2]\n",
    "print(\"Median is: \" + str(median))"
   ]
  },
  {
   "cell_type": "code",
   "execution_count": 6,
   "metadata": {},
   "outputs": [
    {
     "name": "stdout",
     "output_type": "stream",
     "text": [
      "enter a number5\n",
      "5 is a prime number\n"
     ]
    }
   ],
   "source": [
    "# Program to check if a number is prime or not\n",
    "\n",
    "num = int(input(\"enter a number\"))\n",
    "\n",
    "# To take input from the user\n",
    "#num = int(input(\"Enter a number: \"))\n",
    "\n",
    "# define a flag variable\n",
    "flag = False\n",
    "\n",
    "# prime numbers are greater than 1\n",
    "if num > 1:\n",
    "    # check for factors\n",
    "    for i in range(2, num):\n",
    "        if (num % i) == 0:\n",
    "            # if factor is found, set flag to True\n",
    "            flag = True\n",
    "            # break out of loop\n",
    "            break\n",
    "\n",
    "# check if flag is True\n",
    "if flag:\n",
    "    print(num, \"is not a prime number\")\n",
    "else:\n",
    "    print(num, \"is a prime number\")"
   ]
  },
  {
   "cell_type": "code",
   "execution_count": 3,
   "metadata": {},
   "outputs": [
    {
     "name": "stdout",
     "output_type": "stream",
     "text": [
      "Enter a number for a value: 4\n",
      "Enter a number for b value: 5\n",
      "Sum of a,b is  9\n",
      "substraction of a,b = -1\n",
      "Multiplication of a,b = 20\n",
      "Division of a,b = 0.8\n",
      "Floor division of a,b = 0\n",
      "Modulo of a,b = 4\n",
      "Power of a,b = 1024\n",
      "\n",
      "enter a number : 5\n",
      "Factorial of 5 is 120\n",
      "\n",
      "Enter number of elements : 6\n",
      "1\n",
      "9\n",
      "10\n",
      "10\n",
      "0\n",
      "0\n",
      "[1, 9, 10, 10, 0, 0]\n",
      "Mean value is : 5.0\n",
      "\n",
      "Exponential Value is:  54.598150033144236\n",
      "\n",
      "Median is: 3\n",
      "\n",
      "enter a number5\n",
      "5 is a prime number\n"
     ]
    }
   ],
   "source": [
    "a = int(input('Enter a number for a value: '))\n",
    "b = int(input('Enter a number for b value: '))\n",
    "print(\"Sum of a,b is \",a+b)\n",
    "print(\"substraction of a,b =\",a-b)\n",
    "print(\"Multiplication of a,b =\",a*b)\n",
    "print(\"Division of a,b =\",a/b)\n",
    "print(\"Floor division of a,b =\",a//b)\n",
    "print(\"Modulo of a,b =\",a%b)\n",
    "print(\"Power of a,b =\",a**b)\n",
    "print()\n",
    "def factorial(n):\n",
    "    return 1 if (n==1 or n==0) else n * factorial(n - 1)\n",
    "num= int(input (\"enter a number : \"))\n",
    "print(\"Factorial of\",num,\"is\",factorial(num))\n",
    "print()\n",
    "l = []\n",
    "n = int(input(\"Enter number of elements : \"))\n",
    "for i in range(0, n):\n",
    "    ele = int(input())\n",
    " \n",
    "    l.append(ele)\n",
    "print(l)\n",
    "s=0\n",
    "for i in range(0,len(l)):\n",
    "    s = s+l[i] \n",
    "s=s/len(l)\n",
    "print(\"Mean value is :\",s)\n",
    "print()\n",
    "import math\n",
    "exponent = 4\n",
    "print( \"Exponential Value is: \", math.exp(exponent))\n",
    "print()\n",
    "n_num = [1, 2, 3, 4, 5]\n",
    "n = len(n_num)\n",
    "n_num.sort()\n",
    "  \n",
    "if n % 2 == 0:\n",
    "    median1 = n_num[n//2]\n",
    "    median2 = n_num[n//2 - 1]\n",
    "    median = (median1 + median2)/2\n",
    "else:\n",
    "    median = n_num[n//2]\n",
    "print(\"Median is: \" + str(median))\n",
    "print()\n",
    "# Program to check if a number is prime or not\n",
    "\n",
    "num = int(input(\"enter a number\"))\n",
    "\n",
    "# To take input from the user\n",
    "#num = int(input(\"Enter a number: \"))\n",
    "\n",
    "# define a flag variable\n",
    "flag = False\n",
    "\n",
    "# prime numbers are greater than 1\n",
    "if num > 1:\n",
    "    # check for factors\n",
    "    for i in range(2, num):\n",
    "        if (num % i) == 0:\n",
    "            # if factor is found, set flag to True\n",
    "            flag = True\n",
    "            # break out of loop\n",
    "            break\n",
    "\n",
    "# check if flag is True\n",
    "if flag:\n",
    "    print(num, \"is not a prime number\")\n",
    "else:\n",
    "    print(num, \"is a prime number\")"
   ]
  }
 ],
 "metadata": {
  "kernelspec": {
   "display_name": "Python 3",
   "language": "python",
   "name": "python3"
  },
  "language_info": {
   "codemirror_mode": {
    "name": "ipython",
    "version": 3
   },
   "file_extension": ".py",
   "mimetype": "text/x-python",
   "name": "python",
   "nbconvert_exporter": "python",
   "pygments_lexer": "ipython3",
   "version": "3.8.8"
  }
 },
 "nbformat": 4,
 "nbformat_minor": 2
}
