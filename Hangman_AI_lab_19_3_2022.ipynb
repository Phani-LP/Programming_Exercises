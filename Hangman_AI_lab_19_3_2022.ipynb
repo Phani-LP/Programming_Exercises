{
 "cells": [
  {
   "cell_type": "code",
   "execution_count": 2,
   "id": "3a305afa",
   "metadata": {},
   "outputs": [
    {
     "name": "stdout",
     "output_type": "stream",
     "text": [
      "What is your name? =jayanth\n",
      "Good Luck !  jayanth\n",
      "enter the length of list of words= 2\n",
      "enter a word for list= j\n",
      "enter a word for list= r\n",
      "['j', 'r']\n",
      "Guess the characters= \n",
      "_\n",
      "guess a character:k\n",
      "Wrong\n",
      "You have 11 more guesses\n",
      "_\n",
      "guess a character:j\n",
      "Wrong\n",
      "You have 10 more guesses\n",
      "_\n",
      "guess a character:r\n",
      "r\n",
      "You Win\n",
      "The word is:  r\n"
     ]
    }
   ],
   "source": [
    "import random\n",
    "name = input(\"What is your name? =\") \n",
    "print(\"Good Luck ! \", name)\n",
    "length=int(input(\"enter the length of list of words= \")) \n",
    "words=[]\n",
    "for i in range(0,length):\n",
    "    word=str(input(\"enter a word for list= \")) \n",
    "    words.append(word)\n",
    "print(words)\n",
    "word = random.choice(words)\n",
    "print(\"Guess the characters= \") \n",
    "guesses = ''\n",
    "turns = 12 \n",
    "while turns > 0:\n",
    "    failed = 0\n",
    "    for char in word:\n",
    "        if char in guesses:\n",
    "            print(char)\n",
    "        else:\n",
    "            print(\"_\") \n",
    "            failed += 1\n",
    "    if failed ==0:\n",
    "        print(\"You Win\") \n",
    "        print(\"The word is: \", word) \n",
    "        break\n",
    "    guess = input(\"guess a character:\") \n",
    "    guesses += guess\n",
    "    if guess not in word:\n",
    "        turns -= 1\n",
    "        print(\"Wrong\")\n",
    "        print(\"You have\", + turns, 'more guesses') \n",
    "        if turns == 0:\n",
    "            print(\"You Loose\")"
   ]
  },
  {
   "cell_type": "code",
   "execution_count": null,
   "id": "f1429398",
   "metadata": {},
   "outputs": [],
   "source": []
  },
  {
   "cell_type": "code",
   "execution_count": null,
   "id": "b6d24f4d",
   "metadata": {},
   "outputs": [],
   "source": []
  }
 ],
 "metadata": {
  "kernelspec": {
   "display_name": "Python 3",
   "language": "python",
   "name": "python3"
  },
  "language_info": {
   "codemirror_mode": {
    "name": "ipython",
    "version": 3
   },
   "file_extension": ".py",
   "mimetype": "text/x-python",
   "name": "python",
   "nbconvert_exporter": "python",
   "pygments_lexer": "ipython3",
   "version": "3.8.8"
  }
 },
 "nbformat": 4,
 "nbformat_minor": 5
}
