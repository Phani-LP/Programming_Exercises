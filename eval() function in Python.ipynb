{
 "cells": [
  {
   "cell_type": "markdown",
   "id": "85f0b164",
   "metadata": {},
   "source": [
    "# 1). eval()"
   ]
  },
  {
   "cell_type": "markdown",
   "id": "2ae2df7f",
   "metadata": {},
   "source": [
    "### The eval()  function evaluates the expression inside of it"
   ]
  },
  {
   "cell_type": "code",
   "execution_count": 2,
   "id": "7524a569",
   "metadata": {},
   "outputs": [
    {
     "name": "stdout",
     "output_type": "stream",
     "text": [
      "print(55)\n",
      "55\n"
     ]
    }
   ],
   "source": [
    "x = 'print(55)'\n",
    "print(x)\n",
    "eval(x)"
   ]
  },
  {
   "cell_type": "code",
   "execution_count": 4,
   "id": "dccbdcb9",
   "metadata": {
    "scrolled": true
   },
   "outputs": [
    {
     "name": "stdout",
     "output_type": "stream",
     "text": [
      "print(b)\n",
      "[1, 34, 2, 4, 22, 5]\n"
     ]
    }
   ],
   "source": [
    "b=[1,34,2,4,22,5]\n",
    "a = 'print(b)'\n",
    "print(a)\n",
    "eval(a)"
   ]
  },
  {
   "cell_type": "code",
   "execution_count": 5,
   "id": "5292ce8c",
   "metadata": {},
   "outputs": [
    {
     "name": "stdout",
     "output_type": "stream",
     "text": [
      "string1+string2\n"
     ]
    },
    {
     "data": {
      "text/plain": [
       "'I love You Dear'"
      ]
     },
     "execution_count": 5,
     "metadata": {},
     "output_type": "execute_result"
    }
   ],
   "source": [
    "string1 = 'I love '\n",
    "string2 = 'You Dear'\n",
    "string3 = 'string1+string2'\n",
    "print(string3)\n",
    "eval(string3)"
   ]
  },
  {
   "cell_type": "markdown",
   "id": "18280cb1",
   "metadata": {},
   "source": [
    "# 2). sort"
   ]
  },
  {
   "cell_type": "code",
   "execution_count": 7,
   "id": "82a40ccc",
   "metadata": {},
   "outputs": [
    {
     "data": {
      "text/plain": [
       "[1, 1, 2, 2, 3, 4, 6]"
      ]
     },
     "execution_count": 7,
     "metadata": {},
     "output_type": "execute_result"
    }
   ],
   "source": [
    "a=[1,2,4,6,2,1,3]\n",
    "a.sort()\n",
    "a"
   ]
  },
  {
   "cell_type": "markdown",
   "id": "1a400326",
   "metadata": {},
   "source": [
    "### observe the below code"
   ]
  },
  {
   "cell_type": "code",
   "execution_count": 9,
   "id": "b85e88ad",
   "metadata": {},
   "outputs": [
    {
     "name": "stdout",
     "output_type": "stream",
     "text": [
      "12 87 43 9 1\n"
     ]
    },
    {
     "data": {
      "text/plain": [
       "['1', '12', '43', '87', '9']"
      ]
     },
     "execution_count": 9,
     "metadata": {},
     "output_type": "execute_result"
    }
   ],
   "source": [
    "n = input().split(' ')\n",
    "n.sort()\n",
    "n"
   ]
  },
  {
   "cell_type": "code",
   "execution_count": 10,
   "id": "62bf4a12",
   "metadata": {},
   "outputs": [
    {
     "name": "stdout",
     "output_type": "stream",
     "text": [
      "12 43 1 34 54\n"
     ]
    },
    {
     "data": {
      "text/plain": [
       "[1, 12, 34, 43, 54]"
      ]
     },
     "execution_count": 10,
     "metadata": {},
     "output_type": "execute_result"
    }
   ],
   "source": [
    "# NOW OBESRVE THIS ONE TOO\n",
    "n = list(map(int,input().split(' ')))\n",
    "n.sort()\n",
    "n"
   ]
  },
  {
   "cell_type": "code",
   "execution_count": 11,
   "id": "dd2ea963",
   "metadata": {},
   "outputs": [
    {
     "name": "stdout",
     "output_type": "stream",
     "text": [
      "54 24 51 4 6 8 2 1\n"
     ]
    },
    {
     "data": {
      "text/plain": [
       "[1.0, 2.0, 4.0, 6.0, 8.0, 24.0, 51.0, 54.0]"
      ]
     },
     "execution_count": 11,
     "metadata": {},
     "output_type": "execute_result"
    }
   ],
   "source": [
    "n = list(map(float,input().split(' ')))\n",
    "n.sort()\n",
    "n"
   ]
  },
  {
   "cell_type": "code",
   "execution_count": 12,
   "id": "984ad18f",
   "metadata": {},
   "outputs": [
    {
     "name": "stdout",
     "output_type": "stream",
     "text": [
      "hello bro how are you\n"
     ]
    },
    {
     "data": {
      "text/plain": [
       "['are', 'bro', 'hello', 'how', 'you']"
      ]
     },
     "execution_count": 12,
     "metadata": {},
     "output_type": "execute_result"
    }
   ],
   "source": [
    "n = input().split(' ')\n",
    "n.sort()\n",
    "n"
   ]
  },
  {
   "cell_type": "code",
   "execution_count": 13,
   "id": "f571d9ed",
   "metadata": {},
   "outputs": [
    {
     "data": {
      "text/plain": [
       "3"
      ]
     },
     "execution_count": 13,
     "metadata": {},
     "output_type": "execute_result"
    }
   ],
   "source": [
    "len(\"how\")"
   ]
  },
  {
   "cell_type": "markdown",
   "id": "b9dfcd85",
   "metadata": {},
   "source": [
    "### printing multiple values"
   ]
  },
  {
   "cell_type": "code",
   "execution_count": 19,
   "id": "b335653e",
   "metadata": {},
   "outputs": [
    {
     "name": "stdout",
     "output_type": "stream",
     "text": [
      "I'm Good Bro , But I feel like I Lost Everything\n"
     ]
    }
   ],
   "source": [
    "a,b=\"Bro\",\"Lost\"\n",
    "print(\"I'm Good\",a, \", But I feel like I\",b,\"Everything\")"
   ]
  },
  {
   "cell_type": "code",
   "execution_count": null,
   "id": "0e82b471",
   "metadata": {},
   "outputs": [],
   "source": []
  }
 ],
 "metadata": {
  "kernelspec": {
   "display_name": "Python 3 (ipykernel)",
   "language": "python",
   "name": "python3"
  },
  "language_info": {
   "codemirror_mode": {
    "name": "ipython",
    "version": 3
   },
   "file_extension": ".py",
   "mimetype": "text/x-python",
   "name": "python",
   "nbconvert_exporter": "python",
   "pygments_lexer": "ipython3",
   "version": "3.9.12"
  }
 },
 "nbformat": 4,
 "nbformat_minor": 5
}
